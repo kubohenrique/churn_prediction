{
  "nbformat": 4,
  "nbformat_minor": 0,
  "metadata": {
    "colab": {
      "name": "DSNP 3.0 - Churn Prediction para uma empresa de Telecomunicações.ipynb",
      "provenance": [],
      "collapsed_sections": [],
      "include_colab_link": true
    },
    "kernelspec": {
      "name": "python3",
      "display_name": "Python 3"
    }
  },
  "cells": [
    {
      "cell_type": "markdown",
      "metadata": {
        "id": "view-in-github",
        "colab_type": "text"
      },
      "source": [
        "<a href=\"https://colab.research.google.com/github/kubohenrique/churn_prediction/blob/main/DSNP_3_0_Churn_Prediction_para_uma_empresa_de_Telecomunica%C3%A7%C3%B5es.ipynb\" target=\"_parent\"><img src=\"https://colab.research.google.com/assets/colab-badge.svg\" alt=\"Open In Colab\"/></a>"
      ]
    },
    {
      "cell_type": "markdown",
      "metadata": {
        "id": "sC2BFMOKN1M7"
      },
      "source": [
        "---\n",
        "<img alt=\"Colaboratory logo\" width=\"15%\" src=\"https://raw.githubusercontent.com/carlosfab/escola-data-science/master/img/novo_logo_bg_claro.png\">\n",
        "\n",
        "#### **Data Science na Prática 3.0**\n",
        "*by [sigmoidal.ai](https://sigmoidal.ai)*  \n",
        "\n",
        "---"
      ]
    },
    {
      "cell_type": "markdown",
      "metadata": {
        "id": "IR56trFcPcC1"
      },
      "source": [
        "# Churn Prediction\n",
        "\n",
        "*Churn rate*, ou simplesmente *churn*, representa a taxa de evasão da sua base de clientes. Em serviços como Spotify ou Netflix, ela representaria a taxa de cancelamento de assinaturas.\n",
        "\n",
        "<p align=center>\n",
        "<img src=\"https://raw.githubusercontent.com/carlosfab/dsnp2/master/img/churnrate.jpg\" width=\"60%\"></p>\n",
        "\n",
        "Ela é de extrema importância para a administração e sua análise ao longo do tempo, pois se o churn está alto, é porque existe algum problema com o serviço oferecido que está desagradando o cliente, portanto identificar o motivo e melhorar o problema pode diminuir o churn e assim não elevar os prejuízos da empresa.\n",
        "\n",
        "*Churn* também pode ser usado para identificar potenciais cancelamentos, com um tempo de antecedência, e promover ações direcionadas para tentar reter tais clientes. Essa métrica deve receber atenção pelo fato de que o Custo de Aquisição de Cliente (CAC) é normalmente mais alto que o custo para mantê-los. Ou seja, um alto valor para o *churn rate* é o que não desejamos."
      ]
    },
    {
      "cell_type": "markdown",
      "metadata": {
        "id": "PkxVtbSI_O-N"
      },
      "source": [
        "## Importar Bibliotecas"
      ]
    },
    {
      "cell_type": "code",
      "metadata": {
        "id": "5DdQ-JBbr84o"
      },
      "source": [
        "!pip install scikit-plot -q"
      ],
      "execution_count": 51,
      "outputs": []
    },
    {
      "cell_type": "code",
      "metadata": {
        "id": "TiZPq9aibP5B"
      },
      "source": [
        "# importar os pacotes necessários\n",
        "import pandas as pd\n",
        "import numpy as np\n",
        "import matplotlib.pyplot as plt\n",
        "import seaborn as sns\n",
        "\n",
        "from sklearn.model_selection import train_test_split\n",
        "from sklearn.metrics import roc_auc_score, accuracy_score, f1_score, confusion_matrix, classification_report\n",
        "from sklearn.preprocessing import StandardScaler, LabelEncoder\n",
        "from sklearn.pipeline import make_pipeline\n",
        "from sklearn.model_selection import cross_val_score\n",
        "from sklearn.model_selection import StratifiedKFold\n",
        "from sklearn.model_selection import GridSearchCV\n",
        "from sklearn.svm import SVC\n",
        "from sklearn.linear_model import SGDClassifier\n",
        "from sklearn.tree import DecisionTreeClassifier\n",
        "from sklearn.linear_model import LogisticRegression\n",
        "from sklearn.ensemble import RandomForestClassifier\n",
        "from scikitplot.metrics import plot_confusion_matrix, plot_roc\n",
        "\n",
        "from xgboost import XGBClassifier\n",
        "from imblearn.under_sampling import RandomUnderSampler\n",
        "from lightgbm import LGBMClassifier\n",
        "\n"
      ],
      "execution_count": 52,
      "outputs": []
    },
    {
      "cell_type": "markdown",
      "metadata": {
        "id": "P_BFqG0R_Tjh"
      },
      "source": [
        "## Funções Auxiliares"
      ]
    },
    {
      "cell_type": "code",
      "metadata": {
        "id": "4iSIOvWf-4Dn"
      },
      "source": [
        "def converter_str_float(entrada):\n",
        "    \"\"\"\n",
        "    Converte um objeto do tipo string em float.\n",
        "\n",
        "    # Arguments\n",
        "        entrada: string, string da coluna TotalCharges.\n",
        "\n",
        "    # Returns\n",
        "        Valor convertido em float, caso permita a conversão.\n",
        "        NaN, caso o valor não seja apropriado.\n",
        "    \"\"\"\n",
        "\n",
        "    try:\n",
        "        return float(entrada)\n",
        "    except ValueError:\n",
        "        return np.nan\n",
        "\n",
        "\n",
        "def val_model(X, y, clf, quite=False):\n",
        "    X = np.array(X)\n",
        "    y = np.array(y)\n",
        "\n",
        "    pipeline = make_pipeline(StandardScaler(), clf)\n",
        "    scores = cross_val_score(pipeline, X, y, scoring='recall')\n",
        "\n",
        "    if quite == False:\n",
        "        print(\"Recall: {:.2f} (+/- {:.2f})\".format(scores.mean(), scores.std()))\n",
        "    \n",
        "    return scores.mean()"
      ],
      "execution_count": 27,
      "outputs": []
    },
    {
      "cell_type": "markdown",
      "metadata": {
        "id": "0HVmpIxQWT4Y"
      },
      "source": [
        "## Aquisição dos Dados\n",
        "\n",
        "Os dados utilizados neste projeto foram originalmente disponibilizados na [plataforma de ensino da IBM Developer](https://developer.ibm.com/technologies/data-science/patterns/predict-customer-churn-using-watson-studio-and-jupyter-notebooks/#), e tratam de um problema típico de uma companhia de telecomunicações. O *dataset* completo pode ser encontrado [neste link](https://raw.githubusercontent.com/carlosfab/dsnp2/master/datasets/WA_Fn-UseC_-Telco-Customer-Churn.csv).\n",
        "\n",
        "Apesar de não haver informações explícitas disponíves, os nomes das colunas permitem um entendimento a respeito do problema."
      ]
    },
    {
      "cell_type": "code",
      "metadata": {
        "id": "oQ4bNy7udtEE"
      },
      "source": [
        "\n",
        "# importar os dados\n",
        "DATA_PATH = \"https://raw.githubusercontent.com/carlosfab/dsnp2/master/datasets/WA_Fn-UseC_-Telco-Customer-Churn.csv\"\n",
        "df = pd.read_csv(DATA_PATH)"
      ],
      "execution_count": 28,
      "outputs": []
    },
    {
      "cell_type": "markdown",
      "metadata": {
        "id": "Pfp7UUyouqQt"
      },
      "source": [
        "## Análise Exploratória"
      ]
    },
    {
      "cell_type": "markdown",
      "metadata": {
        "id": "SjP5-972u4Sm"
      },
      "source": [
        "Neste ponto irei analisar os dados do dataset, (valores ausentes, valores unicos, tipos de dados, etc).\n",
        "Dessa maneira fica mais fácil selecionar variáveis para modelar o algoritimo de Machine Learning."
      ]
    },
    {
      "cell_type": "code",
      "metadata": {
        "colab": {
          "base_uri": "https://localhost:8080/",
          "height": 309
        },
        "id": "5V5kKuCzuxNq",
        "outputId": "954fb9c8-e246-4d4f-e41f-e43a2e210e87"
      },
      "source": [
        "# ver as 5 primeiras entradas\n",
        "df.head()"
      ],
      "execution_count": 29,
      "outputs": [
        {
          "output_type": "execute_result",
          "data": {
            "text/html": [
              "<div>\n",
              "<style scoped>\n",
              "    .dataframe tbody tr th:only-of-type {\n",
              "        vertical-align: middle;\n",
              "    }\n",
              "\n",
              "    .dataframe tbody tr th {\n",
              "        vertical-align: top;\n",
              "    }\n",
              "\n",
              "    .dataframe thead th {\n",
              "        text-align: right;\n",
              "    }\n",
              "</style>\n",
              "<table border=\"1\" class=\"dataframe\">\n",
              "  <thead>\n",
              "    <tr style=\"text-align: right;\">\n",
              "      <th></th>\n",
              "      <th>customerID</th>\n",
              "      <th>gender</th>\n",
              "      <th>SeniorCitizen</th>\n",
              "      <th>Partner</th>\n",
              "      <th>Dependents</th>\n",
              "      <th>tenure</th>\n",
              "      <th>PhoneService</th>\n",
              "      <th>MultipleLines</th>\n",
              "      <th>InternetService</th>\n",
              "      <th>OnlineSecurity</th>\n",
              "      <th>OnlineBackup</th>\n",
              "      <th>DeviceProtection</th>\n",
              "      <th>TechSupport</th>\n",
              "      <th>StreamingTV</th>\n",
              "      <th>StreamingMovies</th>\n",
              "      <th>Contract</th>\n",
              "      <th>PaperlessBilling</th>\n",
              "      <th>PaymentMethod</th>\n",
              "      <th>MonthlyCharges</th>\n",
              "      <th>TotalCharges</th>\n",
              "      <th>Churn</th>\n",
              "    </tr>\n",
              "  </thead>\n",
              "  <tbody>\n",
              "    <tr>\n",
              "      <th>0</th>\n",
              "      <td>7590-VHVEG</td>\n",
              "      <td>Female</td>\n",
              "      <td>0</td>\n",
              "      <td>Yes</td>\n",
              "      <td>No</td>\n",
              "      <td>1</td>\n",
              "      <td>No</td>\n",
              "      <td>No phone service</td>\n",
              "      <td>DSL</td>\n",
              "      <td>No</td>\n",
              "      <td>Yes</td>\n",
              "      <td>No</td>\n",
              "      <td>No</td>\n",
              "      <td>No</td>\n",
              "      <td>No</td>\n",
              "      <td>Month-to-month</td>\n",
              "      <td>Yes</td>\n",
              "      <td>Electronic check</td>\n",
              "      <td>29.85</td>\n",
              "      <td>29.85</td>\n",
              "      <td>No</td>\n",
              "    </tr>\n",
              "    <tr>\n",
              "      <th>1</th>\n",
              "      <td>5575-GNVDE</td>\n",
              "      <td>Male</td>\n",
              "      <td>0</td>\n",
              "      <td>No</td>\n",
              "      <td>No</td>\n",
              "      <td>34</td>\n",
              "      <td>Yes</td>\n",
              "      <td>No</td>\n",
              "      <td>DSL</td>\n",
              "      <td>Yes</td>\n",
              "      <td>No</td>\n",
              "      <td>Yes</td>\n",
              "      <td>No</td>\n",
              "      <td>No</td>\n",
              "      <td>No</td>\n",
              "      <td>One year</td>\n",
              "      <td>No</td>\n",
              "      <td>Mailed check</td>\n",
              "      <td>56.95</td>\n",
              "      <td>1889.5</td>\n",
              "      <td>No</td>\n",
              "    </tr>\n",
              "    <tr>\n",
              "      <th>2</th>\n",
              "      <td>3668-QPYBK</td>\n",
              "      <td>Male</td>\n",
              "      <td>0</td>\n",
              "      <td>No</td>\n",
              "      <td>No</td>\n",
              "      <td>2</td>\n",
              "      <td>Yes</td>\n",
              "      <td>No</td>\n",
              "      <td>DSL</td>\n",
              "      <td>Yes</td>\n",
              "      <td>Yes</td>\n",
              "      <td>No</td>\n",
              "      <td>No</td>\n",
              "      <td>No</td>\n",
              "      <td>No</td>\n",
              "      <td>Month-to-month</td>\n",
              "      <td>Yes</td>\n",
              "      <td>Mailed check</td>\n",
              "      <td>53.85</td>\n",
              "      <td>108.15</td>\n",
              "      <td>Yes</td>\n",
              "    </tr>\n",
              "    <tr>\n",
              "      <th>3</th>\n",
              "      <td>7795-CFOCW</td>\n",
              "      <td>Male</td>\n",
              "      <td>0</td>\n",
              "      <td>No</td>\n",
              "      <td>No</td>\n",
              "      <td>45</td>\n",
              "      <td>No</td>\n",
              "      <td>No phone service</td>\n",
              "      <td>DSL</td>\n",
              "      <td>Yes</td>\n",
              "      <td>No</td>\n",
              "      <td>Yes</td>\n",
              "      <td>Yes</td>\n",
              "      <td>No</td>\n",
              "      <td>No</td>\n",
              "      <td>One year</td>\n",
              "      <td>No</td>\n",
              "      <td>Bank transfer (automatic)</td>\n",
              "      <td>42.30</td>\n",
              "      <td>1840.75</td>\n",
              "      <td>No</td>\n",
              "    </tr>\n",
              "    <tr>\n",
              "      <th>4</th>\n",
              "      <td>9237-HQITU</td>\n",
              "      <td>Female</td>\n",
              "      <td>0</td>\n",
              "      <td>No</td>\n",
              "      <td>No</td>\n",
              "      <td>2</td>\n",
              "      <td>Yes</td>\n",
              "      <td>No</td>\n",
              "      <td>Fiber optic</td>\n",
              "      <td>No</td>\n",
              "      <td>No</td>\n",
              "      <td>No</td>\n",
              "      <td>No</td>\n",
              "      <td>No</td>\n",
              "      <td>No</td>\n",
              "      <td>Month-to-month</td>\n",
              "      <td>Yes</td>\n",
              "      <td>Electronic check</td>\n",
              "      <td>70.70</td>\n",
              "      <td>151.65</td>\n",
              "      <td>Yes</td>\n",
              "    </tr>\n",
              "  </tbody>\n",
              "</table>\n",
              "</div>"
            ],
            "text/plain": [
              "   customerID  gender  SeniorCitizen  ... MonthlyCharges TotalCharges  Churn\n",
              "0  7590-VHVEG  Female              0  ...          29.85        29.85     No\n",
              "1  5575-GNVDE    Male              0  ...          56.95       1889.5     No\n",
              "2  3668-QPYBK    Male              0  ...          53.85       108.15    Yes\n",
              "3  7795-CFOCW    Male              0  ...          42.30      1840.75     No\n",
              "4  9237-HQITU  Female              0  ...          70.70       151.65    Yes\n",
              "\n",
              "[5 rows x 21 columns]"
            ]
          },
          "metadata": {},
          "execution_count": 29
        }
      ]
    },
    {
      "cell_type": "code",
      "metadata": {
        "colab": {
          "base_uri": "https://localhost:8080/"
        },
        "id": "jJQHjVZ-cP3D",
        "outputId": "bef14740-7624-4784-ea79-fb20d7053679"
      },
      "source": [
        "print('Número de Linhas: {}'.format(df.shape[0]))\n",
        "print('Número de Colunas: {}'.format(df.shape[1]))"
      ],
      "execution_count": 30,
      "outputs": [
        {
          "output_type": "stream",
          "name": "stdout",
          "text": [
            "Número de Linhas: 7043\n",
            "Número de Colunas: 21\n"
          ]
        }
      ]
    },
    {
      "cell_type": "code",
      "metadata": {
        "colab": {
          "base_uri": "https://localhost:8080/"
        },
        "id": "h5ShyEB6xMRZ",
        "outputId": "baef51cc-1872-4717-e275-28b9f8c8cab8"
      },
      "source": [
        "# Verificando os Valores Nulos no Dataset\n",
        "df.isnull().sum()"
      ],
      "execution_count": 31,
      "outputs": [
        {
          "output_type": "execute_result",
          "data": {
            "text/plain": [
              "customerID          0\n",
              "gender              0\n",
              "SeniorCitizen       0\n",
              "Partner             0\n",
              "Dependents          0\n",
              "tenure              0\n",
              "PhoneService        0\n",
              "MultipleLines       0\n",
              "InternetService     0\n",
              "OnlineSecurity      0\n",
              "OnlineBackup        0\n",
              "DeviceProtection    0\n",
              "TechSupport         0\n",
              "StreamingTV         0\n",
              "StreamingMovies     0\n",
              "Contract            0\n",
              "PaperlessBilling    0\n",
              "PaymentMethod       0\n",
              "MonthlyCharges      0\n",
              "TotalCharges        0\n",
              "Churn               0\n",
              "dtype: int64"
            ]
          },
          "metadata": {},
          "execution_count": 31
        }
      ]
    },
    {
      "cell_type": "code",
      "metadata": {
        "colab": {
          "base_uri": "https://localhost:8080/"
        },
        "id": "f-gZcBG8xaWK",
        "outputId": "628430af-e7b6-4edb-a53f-7c07c89a02bb"
      },
      "source": [
        "# Verificando os tipos de dados:\n",
        "df.dtypes"
      ],
      "execution_count": 32,
      "outputs": [
        {
          "output_type": "execute_result",
          "data": {
            "text/plain": [
              "customerID           object\n",
              "gender               object\n",
              "SeniorCitizen         int64\n",
              "Partner              object\n",
              "Dependents           object\n",
              "tenure                int64\n",
              "PhoneService         object\n",
              "MultipleLines        object\n",
              "InternetService      object\n",
              "OnlineSecurity       object\n",
              "OnlineBackup         object\n",
              "DeviceProtection     object\n",
              "TechSupport          object\n",
              "StreamingTV          object\n",
              "StreamingMovies      object\n",
              "Contract             object\n",
              "PaperlessBilling     object\n",
              "PaymentMethod        object\n",
              "MonthlyCharges      float64\n",
              "TotalCharges         object\n",
              "Churn                object\n",
              "dtype: object"
            ]
          },
          "metadata": {},
          "execution_count": 32
        }
      ]
    },
    {
      "cell_type": "code",
      "metadata": {
        "colab": {
          "base_uri": "https://localhost:8080/"
        },
        "id": "dmo1SQaYyOfl",
        "outputId": "3a76bcd7-b012-451c-a2c2-cfa9dec2d20d"
      },
      "source": [
        "# Verificando os valor únicos:\n",
        "df.nunique()"
      ],
      "execution_count": 33,
      "outputs": [
        {
          "output_type": "execute_result",
          "data": {
            "text/plain": [
              "customerID          7043\n",
              "gender                 2\n",
              "SeniorCitizen          2\n",
              "Partner                2\n",
              "Dependents             2\n",
              "tenure                73\n",
              "PhoneService           2\n",
              "MultipleLines          3\n",
              "InternetService        3\n",
              "OnlineSecurity         3\n",
              "OnlineBackup           3\n",
              "DeviceProtection       3\n",
              "TechSupport            3\n",
              "StreamingTV            3\n",
              "StreamingMovies        3\n",
              "Contract               3\n",
              "PaperlessBilling       2\n",
              "PaymentMethod          4\n",
              "MonthlyCharges      1585\n",
              "TotalCharges        6531\n",
              "Churn                  2\n",
              "dtype: int64"
            ]
          },
          "metadata": {},
          "execution_count": 33
        }
      ]
    },
    {
      "cell_type": "markdown",
      "metadata": {
        "id": "PdsARLfKzV1d"
      },
      "source": [
        "Com estas primeiras Análises deu para verificar que:\n",
        "* A variável resposta que buscamos é a `Churn`\n",
        "* A variável `TotalCharges` está como objeto, mas ela é um float.\n",
        "* A variável `customerID` não tem muita importancia para o modelo."
      ]
    },
    {
      "cell_type": "code",
      "metadata": {
        "colab": {
          "base_uri": "https://localhost:8080/"
        },
        "id": "zXwQBYIw--UL",
        "outputId": "5fff8c5b-3a5f-4188-cb48-f0b0e8dd8717"
      },
      "source": [
        "# criar cópia do dataframe\n",
        "df1 = df.copy()\n",
        "\n",
        "# remover coluna costumerID\n",
        "df1.drop(\"customerID\", axis=1, inplace=True)\n",
        "\n",
        "# converter as strings de TotalCharges para float\n",
        "df1[\"TotalCharges\"] = df1[\"TotalCharges\"].apply(converter_str_float)\n",
        "\n",
        "# verificar entradas ausentes\n",
        "print(\"Dados ausentes em 'TotalCharges' (antes):\\t{}\\n\".format(df1[\"TotalCharges\"].isnull().sum()))\n",
        "\n",
        "# substituir os dados ausentes pelo valor da mediana\n",
        "TotalChargesMedian = df1.TotalCharges.median()\n",
        "df1[\"TotalCharges\"].fillna(TotalChargesMedian, inplace=True)"
      ],
      "execution_count": 34,
      "outputs": [
        {
          "output_type": "stream",
          "name": "stdout",
          "text": [
            "Dados ausentes em 'TotalCharges' (antes):\t11\n",
            "\n"
          ]
        }
      ]
    },
    {
      "cell_type": "code",
      "metadata": {
        "colab": {
          "base_uri": "https://localhost:8080/",
          "height": 173
        },
        "id": "8-QYNQf_0LQU",
        "outputId": "a224807c-9d6a-444b-977f-b548aac415e9"
      },
      "source": [
        "df1.describe().T"
      ],
      "execution_count": 35,
      "outputs": [
        {
          "output_type": "execute_result",
          "data": {
            "text/html": [
              "<div>\n",
              "<style scoped>\n",
              "    .dataframe tbody tr th:only-of-type {\n",
              "        vertical-align: middle;\n",
              "    }\n",
              "\n",
              "    .dataframe tbody tr th {\n",
              "        vertical-align: top;\n",
              "    }\n",
              "\n",
              "    .dataframe thead th {\n",
              "        text-align: right;\n",
              "    }\n",
              "</style>\n",
              "<table border=\"1\" class=\"dataframe\">\n",
              "  <thead>\n",
              "    <tr style=\"text-align: right;\">\n",
              "      <th></th>\n",
              "      <th>count</th>\n",
              "      <th>mean</th>\n",
              "      <th>std</th>\n",
              "      <th>min</th>\n",
              "      <th>25%</th>\n",
              "      <th>50%</th>\n",
              "      <th>75%</th>\n",
              "      <th>max</th>\n",
              "    </tr>\n",
              "  </thead>\n",
              "  <tbody>\n",
              "    <tr>\n",
              "      <th>SeniorCitizen</th>\n",
              "      <td>7043.0</td>\n",
              "      <td>0.162147</td>\n",
              "      <td>0.368612</td>\n",
              "      <td>0.00</td>\n",
              "      <td>0.000</td>\n",
              "      <td>0.000</td>\n",
              "      <td>0.00</td>\n",
              "      <td>1.00</td>\n",
              "    </tr>\n",
              "    <tr>\n",
              "      <th>tenure</th>\n",
              "      <td>7043.0</td>\n",
              "      <td>32.371149</td>\n",
              "      <td>24.559481</td>\n",
              "      <td>0.00</td>\n",
              "      <td>9.000</td>\n",
              "      <td>29.000</td>\n",
              "      <td>55.00</td>\n",
              "      <td>72.00</td>\n",
              "    </tr>\n",
              "    <tr>\n",
              "      <th>MonthlyCharges</th>\n",
              "      <td>7043.0</td>\n",
              "      <td>64.761692</td>\n",
              "      <td>30.090047</td>\n",
              "      <td>18.25</td>\n",
              "      <td>35.500</td>\n",
              "      <td>70.350</td>\n",
              "      <td>89.85</td>\n",
              "      <td>118.75</td>\n",
              "    </tr>\n",
              "    <tr>\n",
              "      <th>TotalCharges</th>\n",
              "      <td>7043.0</td>\n",
              "      <td>2281.916928</td>\n",
              "      <td>2265.270398</td>\n",
              "      <td>18.80</td>\n",
              "      <td>402.225</td>\n",
              "      <td>1397.475</td>\n",
              "      <td>3786.60</td>\n",
              "      <td>8684.80</td>\n",
              "    </tr>\n",
              "  </tbody>\n",
              "</table>\n",
              "</div>"
            ],
            "text/plain": [
              "                 count         mean          std  ...       50%      75%      max\n",
              "SeniorCitizen   7043.0     0.162147     0.368612  ...     0.000     0.00     1.00\n",
              "tenure          7043.0    32.371149    24.559481  ...    29.000    55.00    72.00\n",
              "MonthlyCharges  7043.0    64.761692    30.090047  ...    70.350    89.85   118.75\n",
              "TotalCharges    7043.0  2281.916928  2265.270398  ...  1397.475  3786.60  8684.80\n",
              "\n",
              "[4 rows x 8 columns]"
            ]
          },
          "metadata": {},
          "execution_count": 35
        }
      ]
    },
    {
      "cell_type": "markdown",
      "metadata": {
        "id": "Glg38X5f0zzs"
      },
      "source": [
        "Pela descrição estatística, aparentemente não há um outlier aparente, pois os valores máximos não estão tão discrepantes do terceiro quartil, mas irei fazer um boxplot das variáveis: `tenure`, `MonthlyCharges` e `TotalCharges` para verificar melhor isso.\n",
        "\n",
        "A variável `SeniorCitizen` é aparentemente binária, sendo 0 (não senior) e 1 (senior)."
      ]
    },
    {
      "cell_type": "code",
      "metadata": {
        "colab": {
          "base_uri": "https://localhost:8080/",
          "height": 458
        },
        "id": "TW-BdagxAnxb",
        "outputId": "ac9d1998-57e4-480b-de52-1f737db68cb3"
      },
      "source": [
        "fig, ax = plt.subplots(1,3,figsize=(20,5))\n",
        "\n",
        "sns.boxplot(df1['tenure'], ax=ax[0])\n",
        "sns.boxplot(df1['MonthlyCharges'], ax=ax[1])\n",
        "sns.boxplot(df1['TotalCharges'], ax=ax[2])\n",
        "\n",
        "plt.tight_layout()"
      ],
      "execution_count": 36,
      "outputs": [
        {
          "output_type": "stream",
          "name": "stderr",
          "text": [
            "/usr/local/lib/python3.7/dist-packages/seaborn/_decorators.py:43: FutureWarning: Pass the following variable as a keyword arg: x. From version 0.12, the only valid positional argument will be `data`, and passing other arguments without an explicit keyword will result in an error or misinterpretation.\n",
            "  FutureWarning\n",
            "/usr/local/lib/python3.7/dist-packages/seaborn/_decorators.py:43: FutureWarning: Pass the following variable as a keyword arg: x. From version 0.12, the only valid positional argument will be `data`, and passing other arguments without an explicit keyword will result in an error or misinterpretation.\n",
            "  FutureWarning\n",
            "/usr/local/lib/python3.7/dist-packages/seaborn/_decorators.py:43: FutureWarning: Pass the following variable as a keyword arg: x. From version 0.12, the only valid positional argument will be `data`, and passing other arguments without an explicit keyword will result in an error or misinterpretation.\n",
            "  FutureWarning\n"
          ]
        },
        {
          "output_type": "display_data",
          "data": {
            "image/png": "[encoded data removed]",
            "text/plain": [
              "<Figure size 1440x360 with 3 Axes>"
            ]
          },
          "metadata": {
            "needs_background": "light"
          }
        }
      ]
    },
    {
      "cell_type": "markdown",
      "metadata": {
        "id": "iXu1QodUWans"
      },
      "source": [
        "* Pelos gráficos obtidos no boxplots, podemos confirmar que não existe outliers no dataset, pois não existe nenhum plot fora dos limites superiores e inferiores."
      ]
    },
    {
      "cell_type": "code",
      "metadata": {
        "colab": {
          "base_uri": "https://localhost:8080/",
          "height": 441
        },
        "id": "SrUryBKBaQIZ",
        "outputId": "3ac9b445-769d-4370-de9d-7af9fad2455f"
      },
      "source": [
        "# Ver histogramas das variáveis numéricas:\n",
        "df1.hist(bins=30, figsize=(12,6));\n",
        "plt.tight_layout()"
      ],
      "execution_count": 37,
      "outputs": [
        {
          "output_type": "display_data",
          "data": {
            "image/png": "[encoded data removed]",
            "text/plain": [
              "<Figure size 864x432 with 4 Axes>"
            ]
          },
          "metadata": {
            "needs_background": "light"
          }
        }
      ]
    },
    {
      "cell_type": "markdown",
      "metadata": {
        "id": "HhaccyAGBGGX"
      },
      "source": [
        "Alguns insights:\n",
        "* A maior parte dos clientes ou estão a pouco tempo na empresa, ou estão a muito tempo sendo cliente dela (observado pelo gráfico de distribuição de `tenure`;\n",
        "* O valor cobrado por mês é em sua maioria valores pequenos, na faixa de $20.00;\n",
        "* Achei curioso a colocação da variável `SeniorCitizen` no dataset, a titulo de curiosidade vou comparar o Churn para pessoas seniores:"
      ]
    },
    {
      "cell_type": "code",
      "metadata": {
        "colab": {
          "base_uri": "https://localhost:8080/",
          "height": 279
        },
        "id": "V7Z3aYIBB5dT",
        "outputId": "64ff0bb3-35b4-4aed-a1c9-db1faa04d74a"
      },
      "source": [
        "sns.barplot( x='SeniorCitizen', y='Churn', data=df1);"
      ],
      "execution_count": 38,
      "outputs": [
        {
          "output_type": "display_data",
          "data": {
            "image/png": "[encoded data removed]",
            "text/plain": [
              "<Figure size 432x288 with 1 Axes>"
            ]
          },
          "metadata": {
            "needs_background": "light"
          }
        }
      ]
    },
    {
      "cell_type": "markdown",
      "metadata": {
        "id": "WDbu0SqIDKo0"
      },
      "source": [
        "* Aparentemente, pessoas seniores tendem a cancelar os serviços da empresa (resta saber se é por óbito ou apenas mudaram para a concorrente)"
      ]
    },
    {
      "cell_type": "code",
      "metadata": {
        "colab": {
          "base_uri": "https://localhost:8080/",
          "height": 333
        },
        "id": "nl04LSyIkvEK",
        "outputId": "b0f5694c-ffc7-40ca-b5dc-4925d4ee0a26"
      },
      "source": [
        "sns.countplot('Churn', data=df1);"
      ],
      "execution_count": 39,
      "outputs": [
        {
          "output_type": "stream",
          "name": "stderr",
          "text": [
            "/usr/local/lib/python3.7/dist-packages/seaborn/_decorators.py:43: FutureWarning: Pass the following variable as a keyword arg: x. From version 0.12, the only valid positional argument will be `data`, and passing other arguments without an explicit keyword will result in an error or misinterpretation.\n",
            "  FutureWarning\n"
          ]
        },
        {
          "output_type": "display_data",
          "data": {
            "image/png": "[encoded data removed]",
            "text/plain": [
              "<Figure size 432x288 with 1 Axes>"
            ]
          },
          "metadata": {
            "needs_background": "light"
          }
        }
      ]
    },
    {
      "cell_type": "markdown",
      "metadata": {
        "id": "EtZVzU8sk4sy"
      },
      "source": [
        "* A variável resposta `Churn` está um pouco desbalanceada, e corrigiremos isso mais adiante"
      ]
    },
    {
      "cell_type": "markdown",
      "metadata": {
        "id": "-Q9iqPU1F16L"
      },
      "source": [
        "## Preparar os dados"
      ]
    },
    {
      "cell_type": "markdown",
      "metadata": {
        "id": "AltKUyaLF4t4"
      },
      "source": [
        "Os dados para serem treinados para um modelo de Machine Learning, precisam ser preparados, e agora é o momento de fazermos isso: As features que continham 2 labels únicos, serão processadas usando-se o LabelEncoder. Na sequência, serão separadas as variáveis numéricas das categóricas. As categóricas serão transformadas em variáveis dummy, para permitir a sua utilização em todos os modelos."
      ]
    },
    {
      "cell_type": "code",
      "metadata": {
        "colab": {
          "base_uri": "https://localhost:8080/",
          "height": 258
        },
        "id": "fZIespeyGvnS",
        "outputId": "cdfade21-7307-4856-b9e3-4dee2a3bb888"
      },
      "source": [
        "# Fazer uma cópia do dataset\n",
        "df2 = df1.copy()\n",
        "\n",
        "# Separar o dataset em variáveis numéricas e categóricas\n",
        "aux = df1.nunique()[df1.nunique() == 2].keys().tolist()\n",
        "num_var = [col for col in df1.select_dtypes(['int','float']).columns.tolist() if col not in aux]\n",
        "cat_var = [col for col in df1.columns.tolist() if col not in aux + num_var]\n",
        "\n",
        "# Label Encoding para as variáveis Binárias\n",
        "le= LabelEncoder()\n",
        "for i in aux:\n",
        "  df2[i] = le.fit_transform(df2[i])\n",
        "\n",
        "# Encoding para colunas categóricas com múltiplas classes\n",
        "df2 = pd.get_dummies(df2, columns=cat_var)\n",
        "\n",
        "# ver as 5 primeiras entradas do novo dataframe\n",
        "df2.head()"
      ],
      "execution_count": 40,
      "outputs": [
        {
          "output_type": "execute_result",
          "data": {
            "text/html": [
              "<div>\n",
              "<style scoped>\n",
              "    .dataframe tbody tr th:only-of-type {\n",
              "        vertical-align: middle;\n",
              "    }\n",
              "\n",
              "    .dataframe tbody tr th {\n",
              "        vertical-align: top;\n",
              "    }\n",
              "\n",
              "    .dataframe thead th {\n",
              "        text-align: right;\n",
              "    }\n",
              "</style>\n",
              "<table border=\"1\" class=\"dataframe\">\n",
              "  <thead>\n",
              "    <tr style=\"text-align: right;\">\n",
              "      <th></th>\n",
              "      <th>gender</th>\n",
              "      <th>SeniorCitizen</th>\n",
              "      <th>Partner</th>\n",
              "      <th>Dependents</th>\n",
              "      <th>tenure</th>\n",
              "      <th>PhoneService</th>\n",
              "      <th>PaperlessBilling</th>\n",
              "      <th>MonthlyCharges</th>\n",
              "      <th>TotalCharges</th>\n",
              "      <th>Churn</th>\n",
              "      <th>MultipleLines_No</th>\n",
              "      <th>MultipleLines_No phone service</th>\n",
              "      <th>MultipleLines_Yes</th>\n",
              "      <th>InternetService_DSL</th>\n",
              "      <th>InternetService_Fiber optic</th>\n",
              "      <th>InternetService_No</th>\n",
              "      <th>OnlineSecurity_No</th>\n",
              "      <th>OnlineSecurity_No internet service</th>\n",
              "      <th>OnlineSecurity_Yes</th>\n",
              "      <th>OnlineBackup_No</th>\n",
              "      <th>OnlineBackup_No internet service</th>\n",
              "      <th>OnlineBackup_Yes</th>\n",
              "      <th>DeviceProtection_No</th>\n",
              "      <th>DeviceProtection_No internet service</th>\n",
              "      <th>DeviceProtection_Yes</th>\n",
              "      <th>TechSupport_No</th>\n",
              "      <th>TechSupport_No internet service</th>\n",
              "      <th>TechSupport_Yes</th>\n",
              "      <th>StreamingTV_No</th>\n",
              "      <th>StreamingTV_No internet service</th>\n",
              "      <th>StreamingTV_Yes</th>\n",
              "      <th>StreamingMovies_No</th>\n",
              "      <th>StreamingMovies_No internet service</th>\n",
              "      <th>StreamingMovies_Yes</th>\n",
              "      <th>Contract_Month-to-month</th>\n",
              "      <th>Contract_One year</th>\n",
              "      <th>Contract_Two year</th>\n",
              "      <th>PaymentMethod_Bank transfer (automatic)</th>\n",
              "      <th>PaymentMethod_Credit card (automatic)</th>\n",
              "      <th>PaymentMethod_Electronic check</th>\n",
              "      <th>PaymentMethod_Mailed check</th>\n",
              "    </tr>\n",
              "  </thead>\n",
              "  <tbody>\n",
              "    <tr>\n",
              "      <th>0</th>\n",
              "      <td>0</td>\n",
              "      <td>0</td>\n",
              "      <td>1</td>\n",
              "      <td>0</td>\n",
              "      <td>1</td>\n",
              "      <td>0</td>\n",
              "      <td>1</td>\n",
              "      <td>29.85</td>\n",
              "      <td>29.85</td>\n",
              "      <td>0</td>\n",
              "      <td>0</td>\n",
              "      <td>1</td>\n",
              "      <td>0</td>\n",
              "      <td>1</td>\n",
              "      <td>0</td>\n",
              "      <td>0</td>\n",
              "      <td>1</td>\n",
              "      <td>0</td>\n",
              "      <td>0</td>\n",
              "      <td>0</td>\n",
              "      <td>0</td>\n",
              "      <td>1</td>\n",
              "      <td>1</td>\n",
              "      <td>0</td>\n",
              "      <td>0</td>\n",
              "      <td>1</td>\n",
              "      <td>0</td>\n",
              "      <td>0</td>\n",
              "      <td>1</td>\n",
              "      <td>0</td>\n",
              "      <td>0</td>\n",
              "      <td>1</td>\n",
              "      <td>0</td>\n",
              "      <td>0</td>\n",
              "      <td>1</td>\n",
              "      <td>0</td>\n",
              "      <td>0</td>\n",
              "      <td>0</td>\n",
              "      <td>0</td>\n",
              "      <td>1</td>\n",
              "      <td>0</td>\n",
              "    </tr>\n",
              "    <tr>\n",
              "      <th>1</th>\n",
              "      <td>1</td>\n",
              "      <td>0</td>\n",
              "      <td>0</td>\n",
              "      <td>0</td>\n",
              "      <td>34</td>\n",
              "      <td>1</td>\n",
              "      <td>0</td>\n",
              "      <td>56.95</td>\n",
              "      <td>1889.50</td>\n",
              "      <td>0</td>\n",
              "      <td>1</td>\n",
              "      <td>0</td>\n",
              "      <td>0</td>\n",
              "      <td>1</td>\n",
              "      <td>0</td>\n",
              "      <td>0</td>\n",
              "      <td>0</td>\n",
              "      <td>0</td>\n",
              "      <td>1</td>\n",
              "      <td>1</td>\n",
              "      <td>0</td>\n",
              "      <td>0</td>\n",
              "      <td>0</td>\n",
              "      <td>0</td>\n",
              "      <td>1</td>\n",
              "      <td>1</td>\n",
              "      <td>0</td>\n",
              "      <td>0</td>\n",
              "      <td>1</td>\n",
              "      <td>0</td>\n",
              "      <td>0</td>\n",
              "      <td>1</td>\n",
              "      <td>0</td>\n",
              "      <td>0</td>\n",
              "      <td>0</td>\n",
              "      <td>1</td>\n",
              "      <td>0</td>\n",
              "      <td>0</td>\n",
              "      <td>0</td>\n",
              "      <td>0</td>\n",
              "      <td>1</td>\n",
              "    </tr>\n",
              "    <tr>\n",
              "      <th>2</th>\n",
              "      <td>1</td>\n",
              "      <td>0</td>\n",
              "      <td>0</td>\n",
              "      <td>0</td>\n",
              "      <td>2</td>\n",
              "      <td>1</td>\n",
              "      <td>1</td>\n",
              "      <td>53.85</td>\n",
              "      <td>108.15</td>\n",
              "      <td>1</td>\n",
              "      <td>1</td>\n",
              "      <td>0</td>\n",
              "      <td>0</td>\n",
              "      <td>1</td>\n",
              "      <td>0</td>\n",
              "      <td>0</td>\n",
              "      <td>0</td>\n",
              "      <td>0</td>\n",
              "      <td>1</td>\n",
              "      <td>0</td>\n",
              "      <td>0</td>\n",
              "      <td>1</td>\n",
              "      <td>1</td>\n",
              "      <td>0</td>\n",
              "      <td>0</td>\n",
              "      <td>1</td>\n",
              "      <td>0</td>\n",
              "      <td>0</td>\n",
              "      <td>1</td>\n",
              "      <td>0</td>\n",
              "      <td>0</td>\n",
              "      <td>1</td>\n",
              "      <td>0</td>\n",
              "      <td>0</td>\n",
              "      <td>1</td>\n",
              "      <td>0</td>\n",
              "      <td>0</td>\n",
              "      <td>0</td>\n",
              "      <td>0</td>\n",
              "      <td>0</td>\n",
              "      <td>1</td>\n",
              "    </tr>\n",
              "    <tr>\n",
              "      <th>3</th>\n",
              "      <td>1</td>\n",
              "      <td>0</td>\n",
              "      <td>0</td>\n",
              "      <td>0</td>\n",
              "      <td>45</td>\n",
              "      <td>0</td>\n",
              "      <td>0</td>\n",
              "      <td>42.30</td>\n",
              "      <td>1840.75</td>\n",
              "      <td>0</td>\n",
              "      <td>0</td>\n",
              "      <td>1</td>\n",
              "      <td>0</td>\n",
              "      <td>1</td>\n",
              "      <td>0</td>\n",
              "      <td>0</td>\n",
              "      <td>0</td>\n",
              "      <td>0</td>\n",
              "      <td>1</td>\n",
              "      <td>1</td>\n",
              "      <td>0</td>\n",
              "      <td>0</td>\n",
              "      <td>0</td>\n",
              "      <td>0</td>\n",
              "      <td>1</td>\n",
              "      <td>0</td>\n",
              "      <td>0</td>\n",
              "      <td>1</td>\n",
              "      <td>1</td>\n",
              "      <td>0</td>\n",
              "      <td>0</td>\n",
              "      <td>1</td>\n",
              "      <td>0</td>\n",
              "      <td>0</td>\n",
              "      <td>0</td>\n",
              "      <td>1</td>\n",
              "      <td>0</td>\n",
              "      <td>1</td>\n",
              "      <td>0</td>\n",
              "      <td>0</td>\n",
              "      <td>0</td>\n",
              "    </tr>\n",
              "    <tr>\n",
              "      <th>4</th>\n",
              "      <td>0</td>\n",
              "      <td>0</td>\n",
              "      <td>0</td>\n",
              "      <td>0</td>\n",
              "      <td>2</td>\n",
              "      <td>1</td>\n",
              "      <td>1</td>\n",
              "      <td>70.70</td>\n",
              "      <td>151.65</td>\n",
              "      <td>1</td>\n",
              "      <td>1</td>\n",
              "      <td>0</td>\n",
              "      <td>0</td>\n",
              "      <td>0</td>\n",
              "      <td>1</td>\n",
              "      <td>0</td>\n",
              "      <td>1</td>\n",
              "      <td>0</td>\n",
              "      <td>0</td>\n",
              "      <td>1</td>\n",
              "      <td>0</td>\n",
              "      <td>0</td>\n",
              "      <td>1</td>\n",
              "      <td>0</td>\n",
              "      <td>0</td>\n",
              "      <td>1</td>\n",
              "      <td>0</td>\n",
              "      <td>0</td>\n",
              "      <td>1</td>\n",
              "      <td>0</td>\n",
              "      <td>0</td>\n",
              "      <td>1</td>\n",
              "      <td>0</td>\n",
              "      <td>0</td>\n",
              "      <td>1</td>\n",
              "      <td>0</td>\n",
              "      <td>0</td>\n",
              "      <td>0</td>\n",
              "      <td>0</td>\n",
              "      <td>1</td>\n",
              "      <td>0</td>\n",
              "    </tr>\n",
              "  </tbody>\n",
              "</table>\n",
              "</div>"
            ],
            "text/plain": [
              "   gender  ...  PaymentMethod_Mailed check\n",
              "0       0  ...                           0\n",
              "1       1  ...                           1\n",
              "2       1  ...                           1\n",
              "3       1  ...                           0\n",
              "4       0  ...                           0\n",
              "\n",
              "[5 rows x 41 columns]"
            ]
          },
          "metadata": {},
          "execution_count": 40
        }
      ]
    },
    {
      "cell_type": "markdown",
      "metadata": {
        "id": "dKT54-1DT1Y_"
      },
      "source": [
        "## Modelo de Machine Learning"
      ]
    },
    {
      "cell_type": "markdown",
      "metadata": {
        "id": "EqvPjVtiT5Zi"
      },
      "source": [
        "Agora que o data set está pre processado, os dados já podem ser utilizados para fazermos a nossa modelagem.\n",
        "\n",
        "Irei escolher um modelo genérico sem nenhum ajuste nos parametros para criarmos uma *baseline* e podermos fazer uma comparação com outros modelos e parametros ajustados.\n",
        "\n",
        "Aqui vou dividir o dataset em treino e teste.\n",
        "\n",
        "A métrica utilizada para fazer a avaliação é o Recall, que verifica qual a porcentagem de dados classificados como positivos comparado com a quantidade real de positivos que existem em nossa amostra, ou seja, buscamos os falsos negativos."
      ]
    },
    {
      "cell_type": "code",
      "metadata": {
        "id": "XdtHfAF2ZtAx"
      },
      "source": [
        "# Separar o valor alvo do resto do dataset:\n",
        "X = df2.drop('Churn', axis=1)\n",
        "y = df2['Churn']\n",
        "\n",
        "# Dividir entre treino e teste:\n",
        "X_train, X_test, y_train, y_test = train_test_split(X,y)"
      ],
      "execution_count": 41,
      "outputs": []
    },
    {
      "cell_type": "markdown",
      "metadata": {
        "id": "x5airkkjbSTI"
      },
      "source": [
        "Agora podemos criar a baseline e verificar seu desempenho:"
      ]
    },
    {
      "cell_type": "code",
      "metadata": {
        "colab": {
          "base_uri": "https://localhost:8080/"
        },
        "id": "22pgUsiHbXTc",
        "outputId": "8660cfc3-e5d0-4083-b671-712c770c566c"
      },
      "source": [
        "rf = RandomForestClassifier()\n",
        "score_baseline = val_model(X_train, y_train,rf)"
      ],
      "execution_count": 42,
      "outputs": [
        {
          "output_type": "stream",
          "name": "stdout",
          "text": [
            "Recall: 0.48 (+/- 0.03)\n"
          ]
        }
      ]
    },
    {
      "cell_type": "markdown",
      "metadata": {
        "id": "buCrOT0PkQgg"
      },
      "source": [
        "O modelo sem nenhuma definição de parametros de mostrou um pouco ineficaz pois acertou apenas 49% dos Churns.\n",
        "\n",
        "Uma vez que temos um baseline para comparar se os ajustes melhoram ou pioram o desempenho do modelo, irei realizar o balanceamento dos dados e ver como isso irá impactar.\n",
        "\n",
        "A técnica escolhida foi Under Sampling, após alguns teste de desempenho das outras. Seguindo recomendações de algumas literaturas, os dados serão padronizados antes de usar essa técnica de balanceamento.\n",
        "\n",
        "Lembrando, é importante que o balanceamento aconteça apenas com os dados de treino. Os dados de teste devem permanecer intocáveis."
      ]
    },
    {
      "cell_type": "code",
      "metadata": {
        "colab": {
          "base_uri": "https://localhost:8080/"
        },
        "id": "OtVNFet4kP6f",
        "outputId": "a38c9496-118a-4223-fb73-a134ce70e3af"
      },
      "source": [
        "# Padronizar os dados\n",
        "scaler = StandardScaler().fit(X_train)\n",
        "X_train = scaler.transform(X_train)\n",
        "\n",
        "# Balancear os dados\n",
        "rus = RandomUnderSampler()\n",
        "X_train_rus, y_train_rus = rus.fit_sample(X_train, y_train)"
      ],
      "execution_count": 43,
      "outputs": [
        {
          "output_type": "stream",
          "name": "stderr",
          "text": [
            "/usr/local/lib/python3.7/dist-packages/sklearn/utils/deprecation.py:87: FutureWarning: Function safe_indexing is deprecated; safe_indexing is deprecated in version 0.22 and will be removed in version 0.24.\n",
            "  warnings.warn(msg, category=FutureWarning)\n"
          ]
        }
      ]
    },
    {
      "cell_type": "markdown",
      "metadata": {
        "id": "pjh8uQ5rn3sF"
      },
      "source": [
        "Irei aplicar a validação cruzada a vários modelos, a fim de identificar o seu desempenho e escolher o(s) melhor(es). Novamente, serão utilizados apenas dados de treino. Os modelos escolhidos são:\n",
        "\n",
        "* Random Forest\n",
        "* Decision Tree\n",
        "* Stochastic Gradient Descent\n",
        "* SVC\n",
        "* Regressão Logística\n",
        "* LightGBM\n",
        "\n"
      ]
    },
    {
      "cell_type": "code",
      "metadata": {
        "colab": {
          "base_uri": "https://localhost:8080/",
          "height": 266
        },
        "id": "inbpgQ6jn4Ou",
        "outputId": "1d8af6d5-bfcf-48b6-e653-bdda0add0fa5"
      },
      "source": [
        "# Instanciar modelos\n",
        "rf = RandomForestClassifier()\n",
        "dt = DecisionTreeClassifier()\n",
        "sgdc = SGDClassifier()\n",
        "svc = SVC()\n",
        "lr = LogisticRegression()\n",
        "xgb = XGBClassifier()\n",
        "lgbm = LGBMClassifier()\n",
        "\n",
        "model=[]\n",
        "recall=[]\n",
        "\n",
        "for clf in (rf, dt, sgdc, svc, lr, xgb, lgbm):\n",
        "  model.append(clf.__class__.__name__)\n",
        "  recall.append(val_model(X_train_rus, y_train_rus, clf, quite=True))\n",
        "\n",
        "pd.DataFrame(data=recall, index=model, columns=['Recall'])"
      ],
      "execution_count": 44,
      "outputs": [
        {
          "output_type": "execute_result",
          "data": {
            "text/html": [
              "<div>\n",
              "<style scoped>\n",
              "    .dataframe tbody tr th:only-of-type {\n",
              "        vertical-align: middle;\n",
              "    }\n",
              "\n",
              "    .dataframe tbody tr th {\n",
              "        vertical-align: top;\n",
              "    }\n",
              "\n",
              "    .dataframe thead th {\n",
              "        text-align: right;\n",
              "    }\n",
              "</style>\n",
              "<table border=\"1\" class=\"dataframe\">\n",
              "  <thead>\n",
              "    <tr style=\"text-align: right;\">\n",
              "      <th></th>\n",
              "      <th>Recall</th>\n",
              "    </tr>\n",
              "  </thead>\n",
              "  <tbody>\n",
              "    <tr>\n",
              "      <th>RandomForestClassifier</th>\n",
              "      <td>0.764178</td>\n",
              "    </tr>\n",
              "    <tr>\n",
              "      <th>DecisionTreeClassifier</th>\n",
              "      <td>0.682979</td>\n",
              "    </tr>\n",
              "    <tr>\n",
              "      <th>SGDClassifier</th>\n",
              "      <td>0.756262</td>\n",
              "    </tr>\n",
              "    <tr>\n",
              "      <th>SVC</th>\n",
              "      <td>0.803713</td>\n",
              "    </tr>\n",
              "    <tr>\n",
              "      <th>LogisticRegression</th>\n",
              "      <td>0.806604</td>\n",
              "    </tr>\n",
              "    <tr>\n",
              "      <th>XGBClassifier</th>\n",
              "      <td>0.794374</td>\n",
              "    </tr>\n",
              "    <tr>\n",
              "      <th>LGBMClassifier</th>\n",
              "      <td>0.769939</td>\n",
              "    </tr>\n",
              "  </tbody>\n",
              "</table>\n",
              "</div>"
            ],
            "text/plain": [
              "                          Recall\n",
              "RandomForestClassifier  0.764178\n",
              "DecisionTreeClassifier  0.682979\n",
              "SGDClassifier           0.756262\n",
              "SVC                     0.803713\n",
              "LogisticRegression      0.806604\n",
              "XGBClassifier           0.794374\n",
              "LGBMClassifier          0.769939"
            ]
          },
          "metadata": {},
          "execution_count": 44
        }
      ]
    },
    {
      "cell_type": "code",
      "metadata": {
        "colab": {
          "base_uri": "https://localhost:8080/",
          "height": 266
        },
        "id": "2JTGgoBxn9eo",
        "outputId": "a182c747-7883-40f1-d741-24692bf5edc7"
      },
      "source": [
        "# instanciar modelos\n",
        "rf = RandomForestClassifier()\n",
        "dt = DecisionTreeClassifier()\n",
        "sgdc = SGDClassifier()\n",
        "svc = SVC()\n",
        "lr = LogisticRegression()\n",
        "xgb = XGBClassifier()\n",
        "lgbm = LGBMClassifier()\n",
        "\n",
        "model = []\n",
        "recall = []\n",
        "# avaliar o desempenho (recall)\n",
        "for clf in (rf, dt, sgdc, svc, lr, xgb, lgbm):\n",
        "    model.append(clf.__class__.__name__)\n",
        "    recall.append(val_model(X_train_rus, y_train_rus, clf, quite=True))\n",
        "\n",
        "pd.DataFrame(data=recall, index=model, columns=['Recall'])"
      ],
      "execution_count": 45,
      "outputs": [
        {
          "output_type": "execute_result",
          "data": {
            "text/html": [
              "<div>\n",
              "<style scoped>\n",
              "    .dataframe tbody tr th:only-of-type {\n",
              "        vertical-align: middle;\n",
              "    }\n",
              "\n",
              "    .dataframe tbody tr th {\n",
              "        vertical-align: top;\n",
              "    }\n",
              "\n",
              "    .dataframe thead th {\n",
              "        text-align: right;\n",
              "    }\n",
              "</style>\n",
              "<table border=\"1\" class=\"dataframe\">\n",
              "  <thead>\n",
              "    <tr style=\"text-align: right;\">\n",
              "      <th></th>\n",
              "      <th>Recall</th>\n",
              "    </tr>\n",
              "  </thead>\n",
              "  <tbody>\n",
              "    <tr>\n",
              "      <th>RandomForestClassifier</th>\n",
              "      <td>0.761295</td>\n",
              "    </tr>\n",
              "    <tr>\n",
              "      <th>DecisionTreeClassifier</th>\n",
              "      <td>0.686576</td>\n",
              "    </tr>\n",
              "    <tr>\n",
              "      <th>SGDClassifier</th>\n",
              "      <td>0.739754</td>\n",
              "    </tr>\n",
              "    <tr>\n",
              "      <th>SVC</th>\n",
              "      <td>0.803713</td>\n",
              "    </tr>\n",
              "    <tr>\n",
              "      <th>LogisticRegression</th>\n",
              "      <td>0.806604</td>\n",
              "    </tr>\n",
              "    <tr>\n",
              "      <th>XGBClassifier</th>\n",
              "      <td>0.794374</td>\n",
              "    </tr>\n",
              "    <tr>\n",
              "      <th>LGBMClassifier</th>\n",
              "      <td>0.769939</td>\n",
              "    </tr>\n",
              "  </tbody>\n",
              "</table>\n",
              "</div>"
            ],
            "text/plain": [
              "                          Recall\n",
              "RandomForestClassifier  0.761295\n",
              "DecisionTreeClassifier  0.686576\n",
              "SGDClassifier           0.739754\n",
              "SVC                     0.803713\n",
              "LogisticRegression      0.806604\n",
              "XGBClassifier           0.794374\n",
              "LGBMClassifier          0.769939"
            ]
          },
          "metadata": {},
          "execution_count": 45
        }
      ]
    },
    {
      "cell_type": "markdown",
      "metadata": {
        "id": "Fu5ndFwfo8nQ"
      },
      "source": [
        "* Podemos perceber que só de balancear e padronizar os dados, o resultado do modelo de baseline melhorou bastante,\n",
        "* Irei escolher o modelo de XGBooster e irei refinar os parametros para melhorar o resultado."
      ]
    },
    {
      "cell_type": "markdown",
      "metadata": {
        "id": "15xwIjxItEwK"
      },
      "source": [
        "## Otimização dos Hiperparâmetros\n",
        "\n",
        "XGBoost possui inúmeros parâmetros. Alguns afetam mais a qualidade do modelo, outros menos. Uma boa prática é definir uma taxa de aprendizado e número de estimadores, realizar tuning de outros parâmetros e, no final, checar outras taxas de aprendizado.\n",
        "\n",
        "Abaixo, irei ajustar o número de estimadores. O modelo foi instanciado com a `learning_rate=0.1`."
      ]
    },
    {
      "cell_type": "code",
      "metadata": {
        "colab": {
          "base_uri": "https://localhost:8080/"
        },
        "id": "PQtlZzSmpNWG",
        "outputId": "77dab20b-9b25-416f-98a4-2d698ce6601e"
      },
      "source": [
        "xgb = XGBClassifier(learning_rate=0.1)\n",
        "\n",
        "param_grid = {\n",
        " 'n_estimators':range(0,1000,50),\n",
        "}\n",
        "\n",
        "# identificar melhor parâmetro\n",
        "kfold = StratifiedKFold(n_splits=10, shuffle=True)\n",
        "grid_search = GridSearchCV(xgb, param_grid, scoring=\"recall\", n_jobs=-1, cv=kfold)\n",
        "grid_result = grid_search.fit(X_train_rus, y_train_rus)\n",
        "\n",
        "# ver resultados\n",
        "print(\"Melhor: {} para {}\".format(grid_result.best_score_, grid_result.best_params_))"
      ],
      "execution_count": 46,
      "outputs": [
        {
          "output_type": "stream",
          "name": "stdout",
          "text": [
            "Melhor: 0.7994655704008221 para {'n_estimators': 50}\n"
          ]
        }
      ]
    },
    {
      "cell_type": "markdown",
      "metadata": {
        "id": "pWFbBZj8iMD3"
      },
      "source": [
        "Com o número de estimadores igual a 50, realizarei a busca pelos parâmtros max_depth e min_child_weight."
      ]
    },
    {
      "cell_type": "code",
      "metadata": {
        "colab": {
          "base_uri": "https://localhost:8080/"
        },
        "id": "dJZi7w-ih_V6",
        "outputId": "249f7d12-0568-4707-8aa0-d1e4ddfda2b0"
      },
      "source": [
        "xgb = XGBClassifier(learning_rate=0.1, n_estimators=50)\n",
        "\n",
        "param_grid = {\n",
        " 'max_depth':range(1,8,1),\n",
        " 'min_child_weight':range(1,5,1)\n",
        "}\n",
        "\n",
        "# identificar melhor parâmetro\n",
        "kfold = StratifiedKFold(n_splits=10, shuffle=True)\n",
        "grid_search = GridSearchCV(xgb, param_grid, scoring=\"recall\", n_jobs=-1, cv=kfold)\n",
        "grid_result = grid_search.fit(X_train_rus, y_train_rus)\n",
        "\n",
        "# ver resultados\n",
        "print(\"Melhor: {} para {}\".format(grid_result.best_score_, grid_result.best_params_))"
      ],
      "execution_count": 47,
      "outputs": [
        {
          "output_type": "stream",
          "name": "stdout",
          "text": [
            "Melhor: 0.8080626927029805 para {'max_depth': 4, 'min_child_weight': 3}\n"
          ]
        }
      ]
    },
    {
      "cell_type": "markdown",
      "metadata": {
        "id": "ISsbPc4TidOn"
      },
      "source": [
        "Obtidos os valores de `max_depth=1` e `min_child_weight=1`, irei otimizar o parâmetro `gamma`."
      ]
    },
    {
      "cell_type": "code",
      "metadata": {
        "colab": {
          "base_uri": "https://localhost:8080/"
        },
        "id": "dl-HUm3HiLkC",
        "outputId": "212b2785-706c-4a56-a4c3-c5665e18f905"
      },
      "source": [
        "xgb = XGBClassifier(learning_rate=0.1, n_estimators=50, max_depth=1, min_child_weight=1)\n",
        "\n",
        "param_grid = {\n",
        " 'gamma':[i/10.0 for i in range(0,10)]\n",
        "}\n",
        "\n",
        "# identificar melhor parâmetro\n",
        "kfold = StratifiedKFold(n_splits=10, shuffle=True)\n",
        "grid_search = GridSearchCV(xgb, param_grid, scoring=\"recall\", n_jobs=-1, cv=kfold)\n",
        "grid_result = grid_search.fit(X_train_rus, y_train_rus)\n",
        "\n",
        "# ver resultados\n",
        "print(\"Melhor: {} para {}\".format(grid_result.best_score_, grid_result.best_params_))"
      ],
      "execution_count": 48,
      "outputs": [
        {
          "output_type": "stream",
          "name": "stdout",
          "text": [
            "Melhor: 0.8073278520041111 para {'gamma': 0.0}\n"
          ]
        }
      ]
    },
    {
      "cell_type": "markdown",
      "metadata": {
        "id": "RYukBFH8jiVc"
      },
      "source": [
        "Por fim, obtido `gamma=0`, vou testar quatro valores para a `learning_rate` e ver qual oferece o melhor resultado."
      ]
    },
    {
      "cell_type": "code",
      "metadata": {
        "colab": {
          "base_uri": "https://localhost:8080/"
        },
        "id": "jU-jte6oi37q",
        "outputId": "97a6e214-57ff-499b-e13c-a84aa5543c21"
      },
      "source": [
        "xgb = XGBClassifier(n_estimators=50, max_depth=1, min_child_weight=1, gamma=0.0)\n",
        "\n",
        "param_grid = {\n",
        " 'learning_rate':[0.001, 0.01, 0.1, 1]\n",
        "}\n",
        "\n",
        "# identificar melhor parâmetro\n",
        "kfold = StratifiedKFold(n_splits=10, shuffle=True)\n",
        "grid_search = GridSearchCV(xgb, param_grid, scoring=\"recall\", n_jobs=-1, cv=kfold)\n",
        "grid_result = grid_search.fit(X_train_rus, y_train_rus)\n",
        "\n",
        "# ver resultados\n",
        "print(\"Melhor: {} para {}\".format(grid_result.best_score_, grid_result.best_params_))"
      ],
      "execution_count": 49,
      "outputs": [
        {
          "output_type": "stream",
          "name": "stdout",
          "text": [
            "Melhor: 0.8806577595066803 para {'learning_rate': 0.001}\n"
          ]
        }
      ]
    },
    {
      "cell_type": "markdown",
      "metadata": {
        "id": "NF4-Icw8jsPf"
      },
      "source": [
        "Fato é que uma taxa de aprendizado menor, conseguiu melhorar o desempenho do modelo XGBoost, considerando recall como sendo a única métrica de importância (premissa assumida por este autor).\n",
        "\n",
        "Agora, treina-se o modelo em cima do dataset de treino completo, e verifica-se o desempenho final em cima dos dados de teste, no seu primeiro contato com esse sub-conjunto que havia sido preservado."
      ]
    },
    {
      "cell_type": "code",
      "metadata": {
        "colab": {
          "base_uri": "https://localhost:8080/",
          "height": 482
        },
        "id": "EULlWWgnjmcN",
        "outputId": "bcd4ef9d-4ef7-4c81-8c29-60a9bff5fafe"
      },
      "source": [
        "# modelo final\n",
        "xgb = XGBClassifier(learning_rate=0.001 , n_estimators=50, max_depth=1, min_child_weight=1, gamma=0.0)\n",
        "xgb.fit(X_train_rus, y_train_rus)\n",
        "\n",
        "# fazer a previsão\n",
        "X_test = scaler.transform(X_test)\n",
        "y_pred = xgb.predict(X_test)\n",
        "\n",
        "# Classification Report\n",
        "print(classification_report(y_test, y_pred))\n",
        "\n",
        "# imprimir a área sob a curva\n",
        "print(\"AUC: {:.4f}\\n\".format(roc_auc_score(y_test, y_pred)))\n",
        "\n",
        "# plotar matriz de confusão\n",
        "plot_confusion_matrix(y_test, y_pred, normalize=True)\n",
        "plt.show()"
      ],
      "execution_count": 53,
      "outputs": [
        {
          "output_type": "stream",
          "name": "stdout",
          "text": [
            "              precision    recall  f1-score   support\n",
            "\n",
            "           0       0.94      0.58      0.72      1283\n",
            "           1       0.44      0.90      0.59       478\n",
            "\n",
            "    accuracy                           0.67      1761\n",
            "   macro avg       0.69      0.74      0.66      1761\n",
            "weighted avg       0.80      0.67      0.68      1761\n",
            "\n",
            "AUC: 0.7397\n",
            "\n"
          ]
        },
        {
          "output_type": "display_data",
          "data": {
            "image/png": "[encoded data removed]",
            "text/plain": [
              "<Figure size 432x288 with 2 Axes>"
            ]
          },
          "metadata": {
            "needs_background": "light"
          }
        }
      ]
    },
    {
      "cell_type": "markdown",
      "metadata": {
        "id": "7gNu1vRAsJOI"
      },
      "source": [
        "## CONCLUSÕES\n",
        "<p align=center>\n",
        "<img src=https://image.freepik.com/vetores-gratis/aperto-de-mao-de-empresarios-e-grande-lampada-com-engrenagens-giratorias-ideia-de-negocio-lancador-de-negocios-e-desenvolvimento-conceito-de-plano-de-negocios-em-fundo-branco_335657-1733.jpg width=\"60%\"></p>"
      ]
    },
    {
      "cell_type": "markdown",
      "metadata": {
        "id": "O7zgVeLqsMt3"
      },
      "source": [
        "* Os dados de testes não haviam sido passados para o modelo ainda. No entanto, ele manteve um desempenho próximo àquele estimado anteriormente, graças a um bom trabalho de otimização nos parâmetros.\n",
        "\n",
        "* Escolhemos Recall pela natureza do problema para avaliar a precisão do modelo, e o modelo tem 90% de chances de prever o churn, o que é um resultado satisfatório, dessa maneira a empresa pode atuar para que diminua os churns.\n",
        "\n",
        "* Ainda há espaço para se tentar outras técnicas de balanceamento de dados e também técnicas de machine learning como feature engineering e feature selection."
      ]
    },
    {
      "cell_type": "code",
      "metadata": {
        "id": "TtY6Zv-Dv06v"
      },
      "source": [
        ""
      ],
      "execution_count": null,
      "outputs": []
    }
  ]
}